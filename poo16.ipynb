{
 "cells": [
  {
   "cell_type": "code",
   "execution_count": null,
   "id": "1b849b0f",
   "metadata": {
    "vscode": {
     "languageId": "plaintext"
    }
   },
   "outputs": [],
   "source": [
    "class Casa:\n",
    "    def __ini"
   ]
  }
 ],
 "metadata": {
  "language_info": {
   "name": "python"
  }
 },
 "nbformat": 4,
 "nbformat_minor": 5
}
