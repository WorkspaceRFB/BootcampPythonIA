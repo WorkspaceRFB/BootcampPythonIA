{
 "cells": [
  {
   "cell_type": "code",
   "execution_count": 12,
   "id": "25750772",
   "metadata": {},
   "outputs": [],
   "source": [
    "import pandas as pd\n",
    "import os\n",
    "\n",
    "arquivo = pd.read_csv(r\"C:\\source\\repos\\rodolfobelo\\BootcampPythonIA\\Nubank_2025-08-02.csv\", sep=',')\n",
    "\n",
    "# Salva como arquivo Excel\n",
    "arquivo.to_excel(r\"C:\\source\\repos\\rodolfobelo\\BootcampPythonIA\\Nubank_2025-08-02.xlsx\", index=False)"
   ]
  }
 ],
 "metadata": {
  "kernelspec": {
   "display_name": "base",
   "language": "python",
   "name": "python3"
  },
  "language_info": {
   "codemirror_mode": {
    "name": "ipython",
    "version": 3
   },
   "file_extension": ".py",
   "mimetype": "text/x-python",
   "name": "python",
   "nbconvert_exporter": "python",
   "pygments_lexer": "ipython3",
   "version": "3.12.7"
  }
 },
 "nbformat": 4,
 "nbformat_minor": 5
}
